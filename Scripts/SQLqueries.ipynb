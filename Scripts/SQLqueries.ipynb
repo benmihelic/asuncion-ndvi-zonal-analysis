{
 "cells": [
  {
   "cell_type": "code",
   "execution_count": 4,
   "id": "ae8a166f-48ca-4f6f-8534-c27217fed15b",
   "metadata": {},
   "outputs": [],
   "source": [
    "import pandas as pd\n",
    "import sqlite3\n",
    "\n",
    "# Load CSV\n",
    "df = pd.read_csv(r\"C:\\Users\\benmi\\OneDrive\\Desktop\\Land Data\\Zonal Statistics CSV.csv\")\n",
    "\n",
    "# Connect to SQLite (creates file if it doesn't exist)\n",
    "conn = sqlite3.connect(r\"C:\\Users\\benmi\\OneDrive\\Desktop\\Land Data\\ndvi_zones.db\")\n",
    "\n",
    "# Export DataFrame to SQL table\n",
    "df.to_sql(\"ndvi_zones\", conn, if_exists=\"replace\", index=False)\n",
    "\n",
    "# Create a cursor to execute SQL\n",
    "cur = conn.cursor()\n"
   ]
  },
  {
   "cell_type": "code",
   "execution_count": 5,
   "id": "d922618e-862a-4348-93dd-0985b0a4fcab",
   "metadata": {},
   "outputs": [
    {
     "name": "stdout",
     "output_type": "stream",
     "text": [
      "\n",
      "Zones grouped by NDVI class:\n",
      "High: 15\n",
      "Low: 10, 11, 14\n",
      "Moderate: 12, 13\n",
      "\n",
      "Zones ranked by greenest area\n",
      "(15, 0.207821677586106)\n",
      "(13, 0.175156725754544)\n",
      "(12, 0.159579990477573)\n",
      "(11, 0.158724184108819)\n",
      "(14, 0.152531000425303)\n",
      "(10, 0.142695921631797)\n"
     ]
    }
   ],
   "source": [
    "print(\"\\nZones grouped by NDVI class:\")\n",
    "cur.execute(\"\"\"\n",
    "    SELECT\n",
    "        ndvi_class,\n",
    "        GROUP_CONCAT(Zone, ', ') AS zones\n",
    "    FROM (\n",
    "        SELECT\n",
    "            Zone,\n",
    "            CASE\n",
    "                WHEN ndvi_mean < 0.159 THEN 'Low'\n",
    "                WHEN ndvi_mean < 0.199 THEN 'Moderate'\n",
    "                ELSE 'High'\n",
    "            END AS ndvi_class\n",
    "        FROM ndvi_zones\n",
    "    )\n",
    "    GROUP BY ndvi_class\n",
    "\"\"\")\n",
    "\n",
    "for row in cur.fetchall():\n",
    "    print(f\"{row[0]}: {row[1]}\")\n",
    "\n",
    "# Rank Zones by Greenest Area\n",
    "print(\"\\nZones ranked by greenest area\")\n",
    "cur.execute(\"\"\"\n",
    "    SELECT Zone, ndvi_mean\n",
    "    FROM ndvi_zones\n",
    "    ORDER BY ndvi_mean DESC;\n",
    "\"\"\")\n",
    "for row in cur.fetchall():\n",
    "    print(row)\n",
    "    \n",
    "# Close the connection\n",
    "conn.close()"
   ]
  },
  {
   "cell_type": "code",
   "execution_count": null,
   "id": "9e427fab-dc40-4330-b87d-fae5fd20bb05",
   "metadata": {},
   "outputs": [],
   "source": []
  }
 ],
 "metadata": {
  "kernelspec": {
   "display_name": "Python [conda env:base] *",
   "language": "python",
   "name": "conda-base-py"
  },
  "language_info": {
   "codemirror_mode": {
    "name": "ipython",
    "version": 3
   },
   "file_extension": ".py",
   "mimetype": "text/x-python",
   "name": "python",
   "nbconvert_exporter": "python",
   "pygments_lexer": "ipython3",
   "version": "3.13.5"
  }
 },
 "nbformat": 4,
 "nbformat_minor": 5
}
